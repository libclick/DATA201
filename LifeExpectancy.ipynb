{
 "cells": [
  {
   "cell_type": "code",
   "execution_count": 29,
   "metadata": {},
   "outputs": [],
   "source": [
    "import numpy as np\n",
    "import pandas as pd\n",
    "import seaborn as sns\n",
    "import matplotlib.pyplot as plt"
   ]
  },
  {
   "cell_type": "code",
   "execution_count": 30,
   "metadata": {
    "scrolled": true
   },
   "outputs": [
    {
     "name": "stdout",
     "output_type": "stream",
     "text": [
      "       Country  Year      Status  Life expectancy   Adult Mortality  \\\n",
      "0  Afghanistan  2015  Developing              65.0            263.0   \n",
      "1  Afghanistan  2014  Developing              59.9            271.0   \n",
      "2  Afghanistan  2013  Developing              59.9            268.0   \n",
      "3  Afghanistan  2012  Developing              59.5            272.0   \n",
      "4  Afghanistan  2011  Developing              59.2            275.0   \n",
      "\n",
      "   infant deaths  Alcohol  percentage expenditure  Hepatitis B  Measles   ...  \\\n",
      "0             62     0.01               71.279624         65.0      1154  ...   \n",
      "1             64     0.01               73.523582         62.0       492  ...   \n",
      "2             66     0.01               73.219243         64.0       430  ...   \n",
      "3             69     0.01               78.184215         67.0      2787  ...   \n",
      "4             71     0.01                7.097109         68.0      3013  ...   \n",
      "\n",
      "   Polio  Total expenditure  Diphtheria    HIV/AIDS         GDP  Population  \\\n",
      "0    6.0               8.16         65.0        0.1  584.259210  33736494.0   \n",
      "1   58.0               8.18         62.0        0.1  612.696514    327582.0   \n",
      "2   62.0               8.13         64.0        0.1  631.744976  31731688.0   \n",
      "3   67.0               8.52         67.0        0.1  669.959000   3696958.0   \n",
      "4   68.0               7.87         68.0        0.1   63.537231   2978599.0   \n",
      "\n",
      "    thinness  1-19 years   thinness 5-9 years  \\\n",
      "0                   17.2                 17.3   \n",
      "1                   17.5                 17.5   \n",
      "2                   17.7                 17.7   \n",
      "3                   17.9                 18.0   \n",
      "4                   18.2                 18.2   \n",
      "\n",
      "   Income composition of resources  Schooling  \n",
      "0                            0.479       10.1  \n",
      "1                            0.476       10.0  \n",
      "2                            0.470        9.9  \n",
      "3                            0.463        9.8  \n",
      "4                            0.454        9.5  \n",
      "\n",
      "[5 rows x 22 columns]\n",
      "<class 'pandas.core.frame.DataFrame'>\n",
      "RangeIndex: 2938 entries, 0 to 2937\n",
      "Data columns (total 22 columns):\n",
      " #   Column                           Non-Null Count  Dtype  \n",
      "---  ------                           --------------  -----  \n",
      " 0   Country                          2938 non-null   object \n",
      " 1   Year                             2938 non-null   int64  \n",
      " 2   Status                           2938 non-null   object \n",
      " 3   Life expectancy                  2928 non-null   float64\n",
      " 4   Adult Mortality                  2928 non-null   float64\n",
      " 5   infant deaths                    2938 non-null   int64  \n",
      " 6   Alcohol                          2744 non-null   float64\n",
      " 7   percentage expenditure           2938 non-null   float64\n",
      " 8   Hepatitis B                      2385 non-null   float64\n",
      " 9   Measles                          2938 non-null   int64  \n",
      " 10   BMI                             2904 non-null   float64\n",
      " 11  under-five deaths                2938 non-null   int64  \n",
      " 12  Polio                            2919 non-null   float64\n",
      " 13  Total expenditure                2712 non-null   float64\n",
      " 14  Diphtheria                       2919 non-null   float64\n",
      " 15   HIV/AIDS                        2938 non-null   float64\n",
      " 16  GDP                              2490 non-null   float64\n",
      " 17  Population                       2286 non-null   float64\n",
      " 18   thinness  1-19 years            2904 non-null   float64\n",
      " 19   thinness 5-9 years              2904 non-null   float64\n",
      " 20  Income composition of resources  2771 non-null   float64\n",
      " 21  Schooling                        2775 non-null   float64\n",
      "dtypes: float64(16), int64(4), object(2)\n",
      "memory usage: 505.1+ KB\n",
      "None\n"
     ]
    },
    {
     "data": {
      "text/html": [
       "<div>\n",
       "<style scoped>\n",
       "    .dataframe tbody tr th:only-of-type {\n",
       "        vertical-align: middle;\n",
       "    }\n",
       "\n",
       "    .dataframe tbody tr th {\n",
       "        vertical-align: top;\n",
       "    }\n",
       "\n",
       "    .dataframe thead th {\n",
       "        text-align: right;\n",
       "    }\n",
       "</style>\n",
       "<table border=\"1\" class=\"dataframe\">\n",
       "  <thead>\n",
       "    <tr style=\"text-align: right;\">\n",
       "      <th></th>\n",
       "      <th>Year</th>\n",
       "      <th>Life expectancy</th>\n",
       "      <th>Adult Mortality</th>\n",
       "      <th>infant deaths</th>\n",
       "      <th>Alcohol</th>\n",
       "      <th>percentage expenditure</th>\n",
       "      <th>Hepatitis B</th>\n",
       "      <th>Measles</th>\n",
       "      <th>BMI</th>\n",
       "      <th>under-five deaths</th>\n",
       "      <th>Polio</th>\n",
       "      <th>Total expenditure</th>\n",
       "      <th>Diphtheria</th>\n",
       "      <th>HIV/AIDS</th>\n",
       "      <th>GDP</th>\n",
       "      <th>Population</th>\n",
       "      <th>thinness  1-19 years</th>\n",
       "      <th>thinness 5-9 years</th>\n",
       "      <th>Income composition of resources</th>\n",
       "      <th>Schooling</th>\n",
       "    </tr>\n",
       "  </thead>\n",
       "  <tbody>\n",
       "    <tr>\n",
       "      <th>count</th>\n",
       "      <td>2938.000000</td>\n",
       "      <td>2928.000000</td>\n",
       "      <td>2928.000000</td>\n",
       "      <td>2938.000000</td>\n",
       "      <td>2744.000000</td>\n",
       "      <td>2938.000000</td>\n",
       "      <td>2385.000000</td>\n",
       "      <td>2938.000000</td>\n",
       "      <td>2904.000000</td>\n",
       "      <td>2938.000000</td>\n",
       "      <td>2919.000000</td>\n",
       "      <td>2712.00000</td>\n",
       "      <td>2919.000000</td>\n",
       "      <td>2938.000000</td>\n",
       "      <td>2490.000000</td>\n",
       "      <td>2.286000e+03</td>\n",
       "      <td>2904.000000</td>\n",
       "      <td>2904.000000</td>\n",
       "      <td>2771.000000</td>\n",
       "      <td>2775.000000</td>\n",
       "    </tr>\n",
       "    <tr>\n",
       "      <th>mean</th>\n",
       "      <td>2007.518720</td>\n",
       "      <td>69.224932</td>\n",
       "      <td>164.796448</td>\n",
       "      <td>30.303948</td>\n",
       "      <td>4.602861</td>\n",
       "      <td>738.251295</td>\n",
       "      <td>80.940461</td>\n",
       "      <td>2419.592240</td>\n",
       "      <td>38.321247</td>\n",
       "      <td>42.035739</td>\n",
       "      <td>82.550188</td>\n",
       "      <td>5.93819</td>\n",
       "      <td>82.324084</td>\n",
       "      <td>1.742103</td>\n",
       "      <td>7483.158469</td>\n",
       "      <td>1.275338e+07</td>\n",
       "      <td>4.839704</td>\n",
       "      <td>4.870317</td>\n",
       "      <td>0.627551</td>\n",
       "      <td>11.992793</td>\n",
       "    </tr>\n",
       "    <tr>\n",
       "      <th>std</th>\n",
       "      <td>4.613841</td>\n",
       "      <td>9.523867</td>\n",
       "      <td>124.292079</td>\n",
       "      <td>117.926501</td>\n",
       "      <td>4.052413</td>\n",
       "      <td>1987.914858</td>\n",
       "      <td>25.070016</td>\n",
       "      <td>11467.272489</td>\n",
       "      <td>20.044034</td>\n",
       "      <td>160.445548</td>\n",
       "      <td>23.428046</td>\n",
       "      <td>2.49832</td>\n",
       "      <td>23.716912</td>\n",
       "      <td>5.077785</td>\n",
       "      <td>14270.169342</td>\n",
       "      <td>6.101210e+07</td>\n",
       "      <td>4.420195</td>\n",
       "      <td>4.508882</td>\n",
       "      <td>0.210904</td>\n",
       "      <td>3.358920</td>\n",
       "    </tr>\n",
       "    <tr>\n",
       "      <th>min</th>\n",
       "      <td>2000.000000</td>\n",
       "      <td>36.300000</td>\n",
       "      <td>1.000000</td>\n",
       "      <td>0.000000</td>\n",
       "      <td>0.010000</td>\n",
       "      <td>0.000000</td>\n",
       "      <td>1.000000</td>\n",
       "      <td>0.000000</td>\n",
       "      <td>1.000000</td>\n",
       "      <td>0.000000</td>\n",
       "      <td>3.000000</td>\n",
       "      <td>0.37000</td>\n",
       "      <td>2.000000</td>\n",
       "      <td>0.100000</td>\n",
       "      <td>1.681350</td>\n",
       "      <td>3.400000e+01</td>\n",
       "      <td>0.100000</td>\n",
       "      <td>0.100000</td>\n",
       "      <td>0.000000</td>\n",
       "      <td>0.000000</td>\n",
       "    </tr>\n",
       "    <tr>\n",
       "      <th>25%</th>\n",
       "      <td>2004.000000</td>\n",
       "      <td>63.100000</td>\n",
       "      <td>74.000000</td>\n",
       "      <td>0.000000</td>\n",
       "      <td>0.877500</td>\n",
       "      <td>4.685343</td>\n",
       "      <td>77.000000</td>\n",
       "      <td>0.000000</td>\n",
       "      <td>19.300000</td>\n",
       "      <td>0.000000</td>\n",
       "      <td>78.000000</td>\n",
       "      <td>4.26000</td>\n",
       "      <td>78.000000</td>\n",
       "      <td>0.100000</td>\n",
       "      <td>463.935626</td>\n",
       "      <td>1.957932e+05</td>\n",
       "      <td>1.600000</td>\n",
       "      <td>1.500000</td>\n",
       "      <td>0.493000</td>\n",
       "      <td>10.100000</td>\n",
       "    </tr>\n",
       "    <tr>\n",
       "      <th>50%</th>\n",
       "      <td>2008.000000</td>\n",
       "      <td>72.100000</td>\n",
       "      <td>144.000000</td>\n",
       "      <td>3.000000</td>\n",
       "      <td>3.755000</td>\n",
       "      <td>64.912906</td>\n",
       "      <td>92.000000</td>\n",
       "      <td>17.000000</td>\n",
       "      <td>43.500000</td>\n",
       "      <td>4.000000</td>\n",
       "      <td>93.000000</td>\n",
       "      <td>5.75500</td>\n",
       "      <td>93.000000</td>\n",
       "      <td>0.100000</td>\n",
       "      <td>1766.947595</td>\n",
       "      <td>1.386542e+06</td>\n",
       "      <td>3.300000</td>\n",
       "      <td>3.300000</td>\n",
       "      <td>0.677000</td>\n",
       "      <td>12.300000</td>\n",
       "    </tr>\n",
       "    <tr>\n",
       "      <th>75%</th>\n",
       "      <td>2012.000000</td>\n",
       "      <td>75.700000</td>\n",
       "      <td>228.000000</td>\n",
       "      <td>22.000000</td>\n",
       "      <td>7.702500</td>\n",
       "      <td>441.534144</td>\n",
       "      <td>97.000000</td>\n",
       "      <td>360.250000</td>\n",
       "      <td>56.200000</td>\n",
       "      <td>28.000000</td>\n",
       "      <td>97.000000</td>\n",
       "      <td>7.49250</td>\n",
       "      <td>97.000000</td>\n",
       "      <td>0.800000</td>\n",
       "      <td>5910.806335</td>\n",
       "      <td>7.420359e+06</td>\n",
       "      <td>7.200000</td>\n",
       "      <td>7.200000</td>\n",
       "      <td>0.779000</td>\n",
       "      <td>14.300000</td>\n",
       "    </tr>\n",
       "    <tr>\n",
       "      <th>max</th>\n",
       "      <td>2015.000000</td>\n",
       "      <td>89.000000</td>\n",
       "      <td>723.000000</td>\n",
       "      <td>1800.000000</td>\n",
       "      <td>17.870000</td>\n",
       "      <td>19479.911610</td>\n",
       "      <td>99.000000</td>\n",
       "      <td>212183.000000</td>\n",
       "      <td>87.300000</td>\n",
       "      <td>2500.000000</td>\n",
       "      <td>99.000000</td>\n",
       "      <td>17.60000</td>\n",
       "      <td>99.000000</td>\n",
       "      <td>50.600000</td>\n",
       "      <td>119172.741800</td>\n",
       "      <td>1.293859e+09</td>\n",
       "      <td>27.700000</td>\n",
       "      <td>28.600000</td>\n",
       "      <td>0.948000</td>\n",
       "      <td>20.700000</td>\n",
       "    </tr>\n",
       "  </tbody>\n",
       "</table>\n",
       "</div>"
      ],
      "text/plain": [
       "              Year  Life expectancy   Adult Mortality  infant deaths  \\\n",
       "count  2938.000000       2928.000000      2928.000000    2938.000000   \n",
       "mean   2007.518720         69.224932       164.796448      30.303948   \n",
       "std       4.613841          9.523867       124.292079     117.926501   \n",
       "min    2000.000000         36.300000         1.000000       0.000000   \n",
       "25%    2004.000000         63.100000        74.000000       0.000000   \n",
       "50%    2008.000000         72.100000       144.000000       3.000000   \n",
       "75%    2012.000000         75.700000       228.000000      22.000000   \n",
       "max    2015.000000         89.000000       723.000000    1800.000000   \n",
       "\n",
       "           Alcohol  percentage expenditure  Hepatitis B       Measles   \\\n",
       "count  2744.000000             2938.000000  2385.000000    2938.000000   \n",
       "mean      4.602861              738.251295    80.940461    2419.592240   \n",
       "std       4.052413             1987.914858    25.070016   11467.272489   \n",
       "min       0.010000                0.000000     1.000000       0.000000   \n",
       "25%       0.877500                4.685343    77.000000       0.000000   \n",
       "50%       3.755000               64.912906    92.000000      17.000000   \n",
       "75%       7.702500              441.534144    97.000000     360.250000   \n",
       "max      17.870000            19479.911610    99.000000  212183.000000   \n",
       "\n",
       "              BMI   under-five deaths         Polio  Total expenditure  \\\n",
       "count  2904.000000         2938.000000  2919.000000         2712.00000   \n",
       "mean     38.321247           42.035739    82.550188            5.93819   \n",
       "std      20.044034          160.445548    23.428046            2.49832   \n",
       "min       1.000000            0.000000     3.000000            0.37000   \n",
       "25%      19.300000            0.000000    78.000000            4.26000   \n",
       "50%      43.500000            4.000000    93.000000            5.75500   \n",
       "75%      56.200000           28.000000    97.000000            7.49250   \n",
       "max      87.300000         2500.000000    99.000000           17.60000   \n",
       "\n",
       "       Diphtheria      HIV/AIDS            GDP    Population  \\\n",
       "count  2919.000000  2938.000000    2490.000000  2.286000e+03   \n",
       "mean     82.324084     1.742103    7483.158469  1.275338e+07   \n",
       "std      23.716912     5.077785   14270.169342  6.101210e+07   \n",
       "min       2.000000     0.100000       1.681350  3.400000e+01   \n",
       "25%      78.000000     0.100000     463.935626  1.957932e+05   \n",
       "50%      93.000000     0.100000    1766.947595  1.386542e+06   \n",
       "75%      97.000000     0.800000    5910.806335  7.420359e+06   \n",
       "max      99.000000    50.600000  119172.741800  1.293859e+09   \n",
       "\n",
       "        thinness  1-19 years   thinness 5-9 years  \\\n",
       "count            2904.000000          2904.000000   \n",
       "mean                4.839704             4.870317   \n",
       "std                 4.420195             4.508882   \n",
       "min                 0.100000             0.100000   \n",
       "25%                 1.600000             1.500000   \n",
       "50%                 3.300000             3.300000   \n",
       "75%                 7.200000             7.200000   \n",
       "max                27.700000            28.600000   \n",
       "\n",
       "       Income composition of resources    Schooling  \n",
       "count                      2771.000000  2775.000000  \n",
       "mean                          0.627551    11.992793  \n",
       "std                           0.210904     3.358920  \n",
       "min                           0.000000     0.000000  \n",
       "25%                           0.493000    10.100000  \n",
       "50%                           0.677000    12.300000  \n",
       "75%                           0.779000    14.300000  \n",
       "max                           0.948000    20.700000  "
      ]
     },
     "execution_count": 30,
     "metadata": {},
     "output_type": "execute_result"
    }
   ],
   "source": [
    "life = pd.read_csv(\"/Users/elizabethclick/Downloads/Life Expectancy Data.csv\")\n",
    "print(life.head())\n",
    "print(life.info())\n",
    "life.describe()"
   ]
  },
  {
   "cell_type": "code",
   "execution_count": 31,
   "metadata": {},
   "outputs": [],
   "source": [
    "life.columns = life.columns.str.lower()\n",
    "life.columns = life.columns.str.replace(\"\\r\",\"\")\n",
    "life.columns = life.columns.str.replace(\"\\n\",\"\")\n",
    "life.columns = life.columns.str.replace(\"-\", \"_\")\n",
    "life.columns = life.columns.str.replace(\"/\", \"_\")\n",
    "life.columns = life.columns.str.replace(\" \", \"\")\n",
    "life.rename(columns = {'lifeexpectancy' : \"life_exp\",\n",
    "             'adultmortality' : \"adult_mort\",\n",
    "             'infantdeaths' : \"inf_deaths\", \n",
    "             'percentageexpenditure' : \"spend_rate\",\n",
    "             'hepatitisb' : \"hep_b\",\n",
    "             'under_fivedeaths' : \"sub5_deaths\",\n",
    "             'totalexpenditure' : \"spend_total\",\n",
    "             'incomecompositionofresources' : \"income_comp_resources\"\n",
    "            }, inplace = True)"
   ]
  },
  {
   "cell_type": "code",
   "execution_count": 32,
   "metadata": {},
   "outputs": [
    {
     "name": "stdout",
     "output_type": "stream",
     "text": [
      "<class 'pandas.core.frame.DataFrame'>\n",
      "RangeIndex: 2938 entries, 0 to 2937\n",
      "Data columns (total 22 columns):\n",
      " #   Column                 Non-Null Count  Dtype  \n",
      "---  ------                 --------------  -----  \n",
      " 0   country                2938 non-null   object \n",
      " 1   year                   2938 non-null   int64  \n",
      " 2   status                 2938 non-null   object \n",
      " 3   life_exp               2928 non-null   float64\n",
      " 4   adult_mort             2928 non-null   float64\n",
      " 5   inf_deaths             2938 non-null   int64  \n",
      " 6   alcohol                2744 non-null   float64\n",
      " 7   spend_rate             2938 non-null   float64\n",
      " 8   hep_b                  2385 non-null   float64\n",
      " 9   measles                2938 non-null   int64  \n",
      " 10  bmi                    2904 non-null   float64\n",
      " 11  sub5_deaths            2938 non-null   int64  \n",
      " 12  polio                  2919 non-null   float64\n",
      " 13  spend_total            2712 non-null   float64\n",
      " 14  diphtheria             2919 non-null   float64\n",
      " 15  hiv_aids               2938 non-null   float64\n",
      " 16  gdp                    2490 non-null   float64\n",
      " 17  population             2286 non-null   float64\n",
      " 18  thinness1_19years      2904 non-null   float64\n",
      " 19  thinness5_9years       2904 non-null   float64\n",
      " 20  income_comp_resources  2771 non-null   float64\n",
      " 21  schooling              2775 non-null   float64\n",
      "dtypes: float64(16), int64(4), object(2)\n",
      "memory usage: 505.1+ KB\n",
      "<class 'pandas.core.frame.DataFrame'>\n",
      "RangeIndex: 2938 entries, 0 to 2937\n",
      "Data columns (total 22 columns):\n",
      " #   Column                 Non-Null Count  Dtype  \n",
      "---  ------                 --------------  -----  \n",
      " 0   country                2938 non-null   object \n",
      " 1   year                   2938 non-null   int64  \n",
      " 2   status                 2938 non-null   object \n",
      " 3   life_exp               2938 non-null   float64\n",
      " 4   adult_mort             2938 non-null   float64\n",
      " 5   inf_deaths             2938 non-null   int64  \n",
      " 6   alcohol                2938 non-null   float64\n",
      " 7   spend_rate             2938 non-null   float64\n",
      " 8   hep_b                  2938 non-null   float64\n",
      " 9   measles                2938 non-null   int64  \n",
      " 10  bmi                    2938 non-null   float64\n",
      " 11  sub5_deaths            2938 non-null   int64  \n",
      " 12  polio                  2938 non-null   float64\n",
      " 13  spend_total            2938 non-null   float64\n",
      " 14  diphtheria             2938 non-null   float64\n",
      " 15  hiv_aids               2938 non-null   float64\n",
      " 16  gdp                    2938 non-null   float64\n",
      " 17  population             2938 non-null   float64\n",
      " 18  thinness1_19years      2938 non-null   float64\n",
      " 19  thinness5_9years       2938 non-null   float64\n",
      " 20  income_comp_resources  2938 non-null   float64\n",
      " 21  schooling              2938 non-null   float64\n",
      "dtypes: float64(16), int64(4), object(2)\n",
      "memory usage: 505.1+ KB\n"
     ]
    }
   ],
   "source": [
    "#Show keys\n",
    "life.info()\n",
    "life=life.fillna(life.mean())\n",
    "life.info()"
   ]
  },
  {
   "cell_type": "code",
   "execution_count": 33,
   "metadata": {},
   "outputs": [
    {
     "data": {
      "image/png": "[encoded data removed]",
      "text/plain": [
       "<Figure size 432x288 with 1 Axes>"
      ]
     },
     "metadata": {
      "needs_background": "light"
     },
     "output_type": "display_data"
    },
    {
     "data": {
      "text/plain": [
       "<Figure size 432x288 with 0 Axes>"
      ]
     },
     "metadata": {},
     "output_type": "display_data"
    }
   ],
   "source": [
    "#plot life_exp as function of gdp\n",
    "sns.regplot(x=\"gdp\", y=\"life_exp\", color = \"red\", data=life)\n",
    "plt.title(\"Life Expectancy Comparison to GDP\")\n",
    "plt.xlabel(\"GDP (per capita)\")\n",
    "plt.ylabel(\"Age (years)\")\n",
    "plt.show()\n",
    "plt.clf()"
   ]
  },
  {
   "cell_type": "code",
   "execution_count": 34,
   "metadata": {},
   "outputs": [
    {
     "data": {
      "image/png": "[encoded data removed]",
      "text/plain": [
       "<Figure size 432x288 with 1 Axes>"
      ]
     },
     "metadata": {
      "needs_background": "light"
     },
     "output_type": "display_data"
    },
    {
     "data": {
      "text/plain": [
       "<function matplotlib.pyplot.clf()>"
      ]
     },
     "execution_count": 34,
     "metadata": {},
     "output_type": "execute_result"
    }
   ],
   "source": [
    "#plot life_exp by health spending rate : BAD DATA ; SEE life.describe() chunk; \n",
    "#original csv mixed up spend_percentage column with spend_total column\n",
    "sns.regplot(x=\"spend_total\", y=\"life_exp\", color = \"blue\", data=life)\n",
    "plt.title(\"Life Expectancy Comparison to Percentage Spent on Health\")\n",
    "plt.xlabel(\"Spending on Health (%)\")\n",
    "plt.ylabel(\"Age (years)\")\n",
    "plt.show()\n",
    "plt.clf"
   ]
  },
  {
   "cell_type": "code",
   "execution_count": 35,
   "metadata": {},
   "outputs": [],
   "source": [
    "#These two plots indicate that gdp per capita may be a stronger factor than health spending percentage\n",
    "# in life expectancy; suggests throwing money at \"health\"may be missing other factors that go along with better gdp"
   ]
  },
  {
   "cell_type": "code",
   "execution_count": 36,
   "metadata": {},
   "outputs": [
    {
     "data": {
      "image/png": "[encoded data removed]",
      "text/plain": [
       "<Figure size 432x288 with 1 Axes>"
      ]
     },
     "metadata": {
      "needs_background": "light"
     },
     "output_type": "display_data"
    }
   ],
   "source": [
    "#show spread between developed and not developed countries\n",
    "sns.boxplot(x=\"status\",\n",
    " y=\"life_exp\",\n",
    " data=life)\n",
    "plt.title(\"Life Expectancy from WHO\")\n",
    "plt.xlabel(\"Country Status\")\n",
    "plt.ylabel(\"Life Expectancy\")\n",
    "plt.show()"
   ]
  },
  {
   "cell_type": "code",
   "execution_count": 37,
   "metadata": {},
   "outputs": [
    {
     "data": {
      "text/plain": [
       "(array([ 0,  1,  2,  3,  4,  5,  6,  7,  8,  9, 10, 11, 12, 13, 14, 15]),\n",
       " [Text(0, 0, '2000'),\n",
       "  Text(1, 0, '2001'),\n",
       "  Text(2, 0, '2002'),\n",
       "  Text(3, 0, '2003'),\n",
       "  Text(4, 0, '2004'),\n",
       "  Text(5, 0, '2005'),\n",
       "  Text(6, 0, '2006'),\n",
       "  Text(7, 0, '2007'),\n",
       "  Text(8, 0, '2008'),\n",
       "  Text(9, 0, '2009'),\n",
       "  Text(10, 0, '2010'),\n",
       "  Text(11, 0, '2011'),\n",
       "  Text(12, 0, '2012'),\n",
       "  Text(13, 0, '2013'),\n",
       "  Text(14, 0, '2014'),\n",
       "  Text(15, 0, '2015')])"
      ]
     },
     "execution_count": 37,
     "metadata": {},
     "output_type": "execute_result"
    },
    {
     "data": {
      "image/png": "[encoded data removed]",
      "text/plain": [
       "<Figure size 432x288 with 1 Axes>"
      ]
     },
     "metadata": {
      "needs_background": "light"
     },
     "output_type": "display_data"
    }
   ],
   "source": [
    "#compare developed and non-developed life expectancy by year\n",
    "sns.barplot(x=\"year\", y=\"life_exp\", hue = \"status\", data=life)\n",
    "plt.xticks(rotation = 45)\n"
   ]
  },
  {
   "cell_type": "code",
   "execution_count": 38,
   "metadata": {},
   "outputs": [
    {
     "data": {
      "text/plain": [
       "Text(0, 0.5, 'Frequency')"
      ]
     },
     "execution_count": 38,
     "metadata": {},
     "output_type": "execute_result"
    },
    {
     "data": {
      "image/png": "[encoded data removed]",
      "text/plain": [
       "<Figure size 432x288 with 1 Axes>"
      ]
     },
     "metadata": {
      "needs_background": "light"
     },
     "output_type": "display_data"
    }
   ],
   "source": [
    "plt.hist(x = \"life_exp\", data = life)\n",
    "plt.title(\"Life Expectancy from WHO\")\n",
    "plt.xlabel('Life Expectancy (years)')\n",
    "plt.ylabel('Frequency')\n",
    "#distribution of life_expectancy data skews to the right"
   ]
  },
  {
   "cell_type": "code",
   "execution_count": 39,
   "metadata": {},
   "outputs": [],
   "source": [
    "#disease per 100,000\n",
    "\n",
    "#life[\"hep_b_rate\"] = life[\"hep_b\"] / life[\"population\"] * 1000   immunization\n",
    "#life['measles_rate'] = life[\"measles\"] / life[\"population\"] * 1000   already number per 1000 population\n",
    "#life[\"polio_rate\"] = life[\"polio\"] / life[\"population\"] * 1000     immunization\n",
    "#life[\"diphtheria_rate\"] = life[\"diphtheria\"] / life[\"population\"] * 1000 immunization\n",
    "#life[\"hiv_aids_rate\"] = life[\"hiv_aids\"] / life[\"population\"] * 1000 deaths 0-4 per 1000 population\n",
    "\n",
    "\n",
    "\n",
    "#economic: gdp per person\n",
    "life[\"gdp_rate\"] = life[\"gdp\"] / life[\"population\"] \n",
    "\n",
    "#drop other columns at beginning?"
   ]
  },
  {
   "cell_type": "code",
   "execution_count": 40,
   "metadata": {},
   "outputs": [
    {
     "name": "stdout",
     "output_type": "stream",
     "text": [
      "68.85108310564664\n",
      "71.65  is the original sample median\n",
      "9.678782244655885\n"
     ]
    }
   ],
   "source": [
    "#NONPARAMETRIC ESTIMATION OF MEAN, MEDIAN AND STANDARD DEVIATION: USING BOOTSTRAPPING\n",
    "#make column of interest into array for easier indexing\n",
    "\n",
    "life_arr = np.array(life[\"life_exp\"])\n",
    "\n",
    "#generate random numbers from 0 to 2937 for our row index from a uniform distribution\n",
    "rand_index = np.random.randint(low=0, high=2397, size=300)\n",
    "\n",
    "#sample column of interest using the randomized indexes\n",
    "original_sample = []\n",
    "x = -1\n",
    "length = len(rand_index) - 1\n",
    "while x < length :\n",
    "    x=x+1\n",
    "    new_entry = life_arr[rand_index[x]]\n",
    "    original_sample.append(new_entry)\n",
    "    \n",
    "original_sample = np.array(original_sample)    \n",
    "print(original_sample.mean())\n",
    "print(np.median(original_sample), \" is the original sample median\")\n",
    "print(np.std(original_sample))\n"
   ]
  },
  {
   "cell_type": "code",
   "execution_count": 41,
   "metadata": {},
   "outputs": [
    {
     "name": "stdout",
     "output_type": "stream",
     "text": [
      "68.8392770170765\n",
      "71.21491123633879  is the bootstrapping median\n",
      "9.647015027849736\n"
     ]
    }
   ],
   "source": [
    "means_boot_samples = []\n",
    "median_boot_samples = []\n",
    "std_boot_samples = []\n",
    "\n",
    "for i in range(1000):\n",
    "                boot_sample = np.random.choice(original_sample, 100)\n",
    "                means_boot_samples.append(boot_sample.mean())\n",
    "                median_boot_samples.append(np.median(boot_sample))\n",
    "                std_boot_samples.append(np.std(boot_sample))\n",
    "            \n",
    "        \n",
    "print(np.mean(means_boot_samples))\n",
    "print(np.mean(median_boot_samples), \" is the bootstrapping median\")\n",
    "print(np.mean(std_boot_samples))\n"
   ]
  },
  {
   "cell_type": "code",
   "execution_count": 42,
   "metadata": {},
   "outputs": [
    {
     "name": "stdout",
     "output_type": "stream",
     "text": [
      "[66.9702   70.728025]\n",
      "[68.35 73.  ]\n",
      "[ 8.47425512 10.74828911]\n"
     ]
    }
   ],
   "source": [
    "conf_int1 = np.percentile(means_boot_samples, [2.5, 97.5]) # The middle 95% interval\n",
    "print(conf_int1)\n",
    "conf_int2 = np.percentile(median_boot_samples, [2.5, 97.5]) # The middle 95% interval\n",
    "print(conf_int2)\n",
    "conf_int3 = np.percentile(std_boot_samples, [2.5, 97.5]) # The middle 95% interval\n",
    "print(conf_int3)\n"
   ]
  },
  {
   "cell_type": "code",
   "execution_count": 43,
   "metadata": {},
   "outputs": [
    {
     "data": {
      "image/png": "[encoded data removed]",
      "text/plain": [
       "<Figure size 432x288 with 1 Axes>"
      ]
     },
     "metadata": {
      "needs_background": "light"
     },
     "output_type": "display_data"
    }
   ],
   "source": [
    "sns.kdeplot(median_boot_samples)\n",
    "for endpoint in conf_int2:\n",
    "    plt.axvline(endpoint, color='red')\n",
    "plt.xlabel('Life Expectancy')\n",
    "plt.ylabel('Probability Density')      \n",
    "plt.show()"
   ]
  },
  {
   "cell_type": "code",
   "execution_count": 44,
   "metadata": {},
   "outputs": [
    {
     "name": "stdout",
     "output_type": "stream",
     "text": [
      "68.86147343442624\n",
      "71.43636232923497  is the bootstrapping median, using sklearn library\n",
      "9.643076371560257\n"
     ]
    }
   ],
   "source": [
    "#ANOTHER PYTHON METHOD OF BOOTSTRAPPING FOR ESTIMATION OF SAME STATISTICS\n",
    "from sklearn.utils import resample\n",
    "means_boot_samples = []\n",
    "median_boot_samples = []\n",
    "std_boot_samples = []\n",
    "\n",
    "for i in range(1000):\n",
    "                boot_sample = resample(original_sample)\n",
    "                means_boot_samples.append(boot_sample.mean())\n",
    "                median_boot_samples.append(np.median(boot_sample))\n",
    "                std_boot_samples.append(np.std(boot_sample))\n",
    "        \n",
    "print(np.mean(means_boot_samples))\n",
    "print(np.mean(median_boot_samples), \" is the bootstrapping median, using sklearn library\")\n",
    "print(np.mean(std_boot_samples))"
   ]
  },
  {
   "cell_type": "code",
   "execution_count": null,
   "metadata": {},
   "outputs": [],
   "source": []
  }
 ],
 "metadata": {
  "kernelspec": {
   "display_name": "Python 3",
   "language": "python",
   "name": "python3"
  },
  "language_info": {
   "codemirror_mode": {
    "name": "ipython",
    "version": 3
   },
   "file_extension": ".py",
   "mimetype": "text/x-python",
   "name": "python",
   "nbconvert_exporter": "python",
   "pygments_lexer": "ipython3",
   "version": "3.8.5"
  }
 },
 "nbformat": 4,
 "nbformat_minor": 4
}
